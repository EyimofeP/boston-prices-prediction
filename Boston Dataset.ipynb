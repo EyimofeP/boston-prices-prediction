{
 "cells": [
  {
   "cell_type": "markdown",
   "id": "f84ea552",
   "metadata": {},
   "source": [
    "# Boston Housing Dataset Project"
   ]
  },
  {
   "cell_type": "markdown",
   "id": "52532bae",
   "metadata": {},
   "source": [
    "#### A Multiple Linear Regression project used to predict the price (target) of a house based off some features"
   ]
  },
  {
   "cell_type": "markdown",
   "id": "6f220dc9",
   "metadata": {},
   "source": [
    "Import the necessary libraries"
   ]
  },
  {
   "cell_type": "code",
   "execution_count": 94,
   "id": "c5e5d985",
   "metadata": {},
   "outputs": [],
   "source": [
    "import numpy as np\n",
    "import pandas as pd\n",
    "import seaborn as sns\n",
    "\n",
    "sns.set_style(\"darkgrid\")\n",
    "%matplotlib inline"
   ]
  },
  {
   "cell_type": "markdown",
   "id": "5fc5f737",
   "metadata": {},
   "source": [
    "Importing the dataset"
   ]
  },
  {
   "cell_type": "code",
   "execution_count": 95,
   "id": "a292036b",
   "metadata": {},
   "outputs": [],
   "source": [
    "from sklearn.datasets import load_boston"
   ]
  },
  {
   "cell_type": "code",
   "execution_count": 96,
   "id": "acd6b0a4",
   "metadata": {},
   "outputs": [],
   "source": [
    "boston = load_boston()"
   ]
  },
  {
   "cell_type": "code",
   "execution_count": 97,
   "id": "73e2ab71",
   "metadata": {},
   "outputs": [
    {
     "data": {
      "text/plain": [
       "dict_keys(['data', 'target', 'feature_names', 'DESCR', 'filename'])"
      ]
     },
     "execution_count": 97,
     "metadata": {},
     "output_type": "execute_result"
    }
   ],
   "source": [
    "boston.keys()"
   ]
  },
  {
   "cell_type": "markdown",
   "id": "11044118",
   "metadata": {},
   "source": [
    "Let us check the features in these dataset and actually see what we are using to predict the price,\n",
    "We can see we are using some housing data like tax, house age, zone and others"
   ]
  },
  {
   "cell_type": "code",
   "execution_count": 98,
   "id": "9bef043a",
   "metadata": {},
   "outputs": [
    {
     "name": "stdout",
     "output_type": "stream",
     "text": [
      "['CRIM' 'ZN' 'INDUS' 'CHAS' 'NOX' 'RM' 'AGE' 'DIS' 'RAD' 'TAX' 'PTRATIO'\n",
      " 'B' 'LSTAT']\n",
      "There are 13 features\n"
     ]
    }
   ],
   "source": [
    "features  = boston[\"feature_names\"]\n",
    "print(features)\n",
    "print(f\"There are {len(features)} features\")"
   ]
  },
  {
   "cell_type": "markdown",
   "id": "a6cc9531",
   "metadata": {},
   "source": [
    "Now lets check the values of our features, and we can see that there is 13 values in an array, each representing the features above respectively"
   ]
  },
  {
   "cell_type": "code",
   "execution_count": 99,
   "id": "6a75808c",
   "metadata": {},
   "outputs": [
    {
     "data": {
      "text/plain": [
       "array([[6.3200e-03, 1.8000e+01, 2.3100e+00, 0.0000e+00, 5.3800e-01,\n",
       "        6.5750e+00, 6.5200e+01, 4.0900e+00, 1.0000e+00, 2.9600e+02,\n",
       "        1.5300e+01, 3.9690e+02, 4.9800e+00],\n",
       "       [2.7310e-02, 0.0000e+00, 7.0700e+00, 0.0000e+00, 4.6900e-01,\n",
       "        6.4210e+00, 7.8900e+01, 4.9671e+00, 2.0000e+00, 2.4200e+02,\n",
       "        1.7800e+01, 3.9690e+02, 9.1400e+00]])"
      ]
     },
     "execution_count": 99,
     "metadata": {},
     "output_type": "execute_result"
    }
   ],
   "source": [
    "X = boston[\"data\"]\n",
    "# Fetch 2 datasets for readability\n",
    "X[:2]"
   ]
  },
  {
   "cell_type": "markdown",
   "id": "6d54223a",
   "metadata": {},
   "source": [
    "Let's also check the target (price) values, we can see it is one value as it is only price (1 value) we are predicting"
   ]
  },
  {
   "cell_type": "code",
   "execution_count": 100,
   "id": "98be53bd",
   "metadata": {},
   "outputs": [
    {
     "data": {
      "text/plain": [
       "array([24. , 21.6, 34.7, 33.4, 36.2, 28.7, 22.9, 27.1, 16.5, 18.9, 15. ,\n",
       "       18.9, 21.7, 20.4, 18.2, 19.9, 23.1, 17.5, 20.2, 18.2])"
      ]
     },
     "execution_count": 100,
     "metadata": {},
     "output_type": "execute_result"
    }
   ],
   "source": [
    "y = boston[\"target\"]\n",
    "y[:20]"
   ]
  },
  {
   "cell_type": "markdown",
   "id": "7f6de803",
   "metadata": {},
   "source": [
    "Okay now that we have our features and target, lets split them into training and testing data"
   ]
  },
  {
   "cell_type": "code",
   "execution_count": 101,
   "id": "ed2606c2",
   "metadata": {},
   "outputs": [],
   "source": [
    "from sklearn.model_selection import train_test_split"
   ]
  },
  {
   "cell_type": "markdown",
   "id": "3aca20ed",
   "metadata": {},
   "source": [
    "We are training 70% of our data and testing 30% of it"
   ]
  },
  {
   "cell_type": "code",
   "execution_count": 102,
   "id": "d9effce5",
   "metadata": {},
   "outputs": [],
   "source": [
    "X_train, X_test, y_train, y_test = train_test_split(X, y, test_size=0.2)"
   ]
  },
  {
   "cell_type": "markdown",
   "id": "15d4207b",
   "metadata": {},
   "source": [
    "Let us actually compare them"
   ]
  },
  {
   "cell_type": "code",
   "execution_count": 103,
   "id": "fbaaff17",
   "metadata": {},
   "outputs": [
    {
     "data": {
      "text/plain": [
       "((506, 13), (506,))"
      ]
     },
     "execution_count": 103,
     "metadata": {},
     "output_type": "execute_result"
    }
   ],
   "source": [
    "X.shape, y.shape"
   ]
  },
  {
   "cell_type": "code",
   "execution_count": 104,
   "id": "f72af385",
   "metadata": {},
   "outputs": [
    {
     "data": {
      "text/plain": [
       "((404, 13), (404,))"
      ]
     },
     "execution_count": 104,
     "metadata": {},
     "output_type": "execute_result"
    }
   ],
   "source": [
    "X_train.shape, y_train.shape"
   ]
  },
  {
   "cell_type": "code",
   "execution_count": 105,
   "id": "7b0a31af",
   "metadata": {},
   "outputs": [
    {
     "data": {
      "text/plain": [
       "((102, 13), (102,))"
      ]
     },
     "execution_count": 105,
     "metadata": {},
     "output_type": "execute_result"
    }
   ],
   "source": [
    "X_test.shape, y_test.shape"
   ]
  },
  {
   "cell_type": "markdown",
   "id": "f78771b2",
   "metadata": {},
   "source": [
    "Now let's perform Linear Regression on the data by importing the necessary libraries"
   ]
  },
  {
   "cell_type": "code",
   "execution_count": 106,
   "id": "f1dd02af",
   "metadata": {},
   "outputs": [],
   "source": [
    "from sklearn.linear_model import LinearRegression"
   ]
  },
  {
   "cell_type": "code",
   "execution_count": 107,
   "id": "33cd4116",
   "metadata": {},
   "outputs": [],
   "source": [
    "model = LinearRegression()"
   ]
  },
  {
   "cell_type": "markdown",
   "id": "f211c512",
   "metadata": {},
   "source": [
    "Let's train our data"
   ]
  },
  {
   "cell_type": "code",
   "execution_count": 108,
   "id": "3d1a4a33",
   "metadata": {},
   "outputs": [
    {
     "data": {
      "text/plain": [
       "LinearRegression()"
      ]
     },
     "execution_count": 108,
     "metadata": {},
     "output_type": "execute_result"
    }
   ],
   "source": [
    "model.fit(X_train, y_train)"
   ]
  },
  {
   "cell_type": "markdown",
   "id": "e3805268",
   "metadata": {},
   "source": [
    "Okay now that we have trained our data, let's get our Feature's coefficients and the Intercept"
   ]
  },
  {
   "cell_type": "code",
   "execution_count": 109,
   "id": "40441302",
   "metadata": {},
   "outputs": [
    {
     "data": {
      "text/plain": [
       "array([-1.10477885e-01,  3.82117933e-02,  5.08984150e-02,  2.46235372e+00,\n",
       "       -1.81685980e+01,  4.06864224e+00,  1.26432824e-02, -1.34228912e+00,\n",
       "        2.80667168e-01, -1.22644597e-02, -9.75386013e-01,  7.72679749e-03,\n",
       "       -5.47244927e-01])"
      ]
     },
     "execution_count": 109,
     "metadata": {},
     "output_type": "execute_result"
    }
   ],
   "source": [
    "model.coef_"
   ]
  },
  {
   "cell_type": "code",
   "execution_count": 110,
   "id": "80dde2c0",
   "metadata": {},
   "outputs": [
    {
     "data": {
      "text/plain": [
       "34.9090269820114"
      ]
     },
     "execution_count": 110,
     "metadata": {},
     "output_type": "execute_result"
    }
   ],
   "source": [
    "model.intercept_"
   ]
  },
  {
   "cell_type": "markdown",
   "id": "fc906fa1",
   "metadata": {},
   "source": [
    "Let compare each coefficient to its feature"
   ]
  },
  {
   "cell_type": "code",
   "execution_count": 111,
   "id": "57c7ee5d",
   "metadata": {},
   "outputs": [
    {
     "data": {
      "text/html": [
       "<div>\n",
       "<style scoped>\n",
       "    .dataframe tbody tr th:only-of-type {\n",
       "        vertical-align: middle;\n",
       "    }\n",
       "\n",
       "    .dataframe tbody tr th {\n",
       "        vertical-align: top;\n",
       "    }\n",
       "\n",
       "    .dataframe thead th {\n",
       "        text-align: right;\n",
       "    }\n",
       "</style>\n",
       "<table border=\"1\" class=\"dataframe\">\n",
       "  <thead>\n",
       "    <tr style=\"text-align: right;\">\n",
       "      <th></th>\n",
       "      <th>Coefficients</th>\n",
       "    </tr>\n",
       "  </thead>\n",
       "  <tbody>\n",
       "    <tr>\n",
       "      <th>CRIM</th>\n",
       "      <td>-0.110478</td>\n",
       "    </tr>\n",
       "    <tr>\n",
       "      <th>ZN</th>\n",
       "      <td>0.038212</td>\n",
       "    </tr>\n",
       "    <tr>\n",
       "      <th>INDUS</th>\n",
       "      <td>0.050898</td>\n",
       "    </tr>\n",
       "    <tr>\n",
       "      <th>CHAS</th>\n",
       "      <td>2.462354</td>\n",
       "    </tr>\n",
       "    <tr>\n",
       "      <th>NOX</th>\n",
       "      <td>-18.168598</td>\n",
       "    </tr>\n",
       "    <tr>\n",
       "      <th>RM</th>\n",
       "      <td>4.068642</td>\n",
       "    </tr>\n",
       "    <tr>\n",
       "      <th>AGE</th>\n",
       "      <td>0.012643</td>\n",
       "    </tr>\n",
       "    <tr>\n",
       "      <th>DIS</th>\n",
       "      <td>-1.342289</td>\n",
       "    </tr>\n",
       "    <tr>\n",
       "      <th>RAD</th>\n",
       "      <td>0.280667</td>\n",
       "    </tr>\n",
       "    <tr>\n",
       "      <th>TAX</th>\n",
       "      <td>-0.012264</td>\n",
       "    </tr>\n",
       "    <tr>\n",
       "      <th>PTRATIO</th>\n",
       "      <td>-0.975386</td>\n",
       "    </tr>\n",
       "    <tr>\n",
       "      <th>B</th>\n",
       "      <td>0.007727</td>\n",
       "    </tr>\n",
       "    <tr>\n",
       "      <th>LSTAT</th>\n",
       "      <td>-0.547245</td>\n",
       "    </tr>\n",
       "  </tbody>\n",
       "</table>\n",
       "</div>"
      ],
      "text/plain": [
       "         Coefficients\n",
       "CRIM        -0.110478\n",
       "ZN           0.038212\n",
       "INDUS        0.050898\n",
       "CHAS         2.462354\n",
       "NOX        -18.168598\n",
       "RM           4.068642\n",
       "AGE          0.012643\n",
       "DIS         -1.342289\n",
       "RAD          0.280667\n",
       "TAX         -0.012264\n",
       "PTRATIO     -0.975386\n",
       "B            0.007727\n",
       "LSTAT       -0.547245"
      ]
     },
     "execution_count": 111,
     "metadata": {},
     "output_type": "execute_result"
    }
   ],
   "source": [
    "coefficents = pd.DataFrame(model.coef_, features, columns =[\"Coefficients\"])\n",
    "coefficents"
   ]
  },
  {
   "cell_type": "markdown",
   "id": "3d6c2c10",
   "metadata": {},
   "source": [
    "Now we have gotten our coefficients and intercept, let's predict the values of our target's testing values using the test feature data"
   ]
  },
  {
   "cell_type": "code",
   "execution_count": 112,
   "id": "ad0f9f10",
   "metadata": {},
   "outputs": [],
   "source": [
    "predictions= model.predict(X_test)"
   ]
  },
  {
   "cell_type": "code",
   "execution_count": 113,
   "id": "9b15748b",
   "metadata": {},
   "outputs": [
    {
     "data": {
      "text/plain": [
       "array([25.07950114, 42.81322935, 21.26213828, 21.67964066, 21.83398204,\n",
       "       -0.6228297 , 22.92731961, 14.25186744, 13.78368597, 24.88669784,\n",
       "       22.7043849 , 33.21601446, 15.99917529, 24.61334748, 23.76478381,\n",
       "       22.51788382, 13.40278307,  6.39368561, 16.69948944, 23.31975511,\n",
       "       28.9226548 ,  8.48854659, 22.59851118, 11.24517366, 30.59897911,\n",
       "       34.54474416, 28.69783758, 41.50159796, 24.80802704, 24.87570702,\n",
       "       22.36857269, 24.71426126, 33.81573299, 29.68940504, 26.13398649,\n",
       "       27.07759699, 31.03466949,  4.46993746, 18.9450925 ,  5.09530333,\n",
       "       20.41320255, 37.42886546, 34.61332642, 25.70904728, 21.00992305,\n",
       "       22.29397717, 16.36870426, 14.59889411, 26.23126574, 10.00030928,\n",
       "       36.03780184, 17.86351467, 23.2471776 , 33.54838435,  9.96779896,\n",
       "       19.11114821, 18.42239327, 18.31267035, 34.8386856 , 22.17711801,\n",
       "       21.57130202, 24.57112806, 19.33966304, 28.15256895, 41.10388988,\n",
       "       16.46897747, 20.18489692, 34.61196168, 20.31081735, 19.97026989,\n",
       "       26.71503979, 22.31126704, 30.34732349, 14.33889059, 25.19893385,\n",
       "       19.56683736, 35.18861305, 40.55455723, 17.2110654 , 19.92179492,\n",
       "       37.25808701, 21.02204407, 22.20442154,  8.79219844, 27.92508203,\n",
       "        5.01958077, 30.37489206, 21.45607563, 23.9409504 , 18.29913025,\n",
       "       23.71156912, 10.41159536, 11.9758563 , 26.74832247, 23.39106881,\n",
       "       24.91420371, 29.08965268, 17.87331264, 21.57099321, 16.96861523,\n",
       "       13.42570631, 18.84784988])"
      ]
     },
     "execution_count": 113,
     "metadata": {},
     "output_type": "execute_result"
    }
   ],
   "source": [
    "predictions"
   ]
  },
  {
   "cell_type": "code",
   "execution_count": 114,
   "id": "b03bec58",
   "metadata": {},
   "outputs": [
    {
     "data": {
      "text/plain": [
       "array([24. , 50. , 21. , 16.1, 20.6, 13.8, 20.3, 13.6, 18.2, 23.1, 21. ,\n",
       "       26.7, 23.1, 21.7, 21.9, 17. , 18.5, 10.4, 17.8, 21.2, 22.9,  7. ,\n",
       "       25. ,  5.6, 30.8, 50. , 28.4, 50. , 24.8, 21.5, 24.7, 19.4, 37.3,\n",
       "       24.3, 25. , 22.3, 27.9,  8.4, 12.5, 10.5, 21.1, 43.1, 31. , 26.5,\n",
       "       20.5, 20.3, 20.1,  8.4, 23.3,  6.3, 33.3, 12.6, 24.4, 34.9, 23.7,\n",
       "       16.4, 19.5, 19.8, 33.8, 22.2, 20.7, 29.6, 15.2, 23.9, 50. , 19.1,\n",
       "       20.4, 34.6, 16.8, 18.4, 22.1, 21.7, 42.8, 13.1, 22.7, 20.4, 30.1,\n",
       "       50. , 14.3, 19.6, 44. , 18.8, 22.6, 13.2, 27.1, 13.8, 29.4, 20.1,\n",
       "       22.6, 14.5, 20.1, 23.1, 15.6, 22.8, 21.7, 23.1, 22.8, 20.1, 23.3,\n",
       "       13.4, 27.5, 22.6])"
      ]
     },
     "execution_count": 114,
     "metadata": {},
     "output_type": "execute_result"
    }
   ],
   "source": [
    "y_test"
   ]
  },
  {
   "cell_type": "markdown",
   "id": "b5092a22",
   "metadata": {},
   "source": [
    "Now we are going to compare the targets with our predictions"
   ]
  },
  {
   "cell_type": "code",
   "execution_count": 115,
   "id": "6db793a0",
   "metadata": {},
   "outputs": [],
   "source": [
    "data = pd.DataFrame(columns=[\"Target\", \"Prediction\"])\n",
    "data[\"Target\"] = y_test\n",
    "data[\"Prediction\"] = predictions"
   ]
  },
  {
   "cell_type": "code",
   "execution_count": 116,
   "id": "c89aaa40",
   "metadata": {},
   "outputs": [
    {
     "data": {
      "text/html": [
       "<div>\n",
       "<style scoped>\n",
       "    .dataframe tbody tr th:only-of-type {\n",
       "        vertical-align: middle;\n",
       "    }\n",
       "\n",
       "    .dataframe tbody tr th {\n",
       "        vertical-align: top;\n",
       "    }\n",
       "\n",
       "    .dataframe thead th {\n",
       "        text-align: right;\n",
       "    }\n",
       "</style>\n",
       "<table border=\"1\" class=\"dataframe\">\n",
       "  <thead>\n",
       "    <tr style=\"text-align: right;\">\n",
       "      <th></th>\n",
       "      <th>Target</th>\n",
       "      <th>Prediction</th>\n",
       "    </tr>\n",
       "  </thead>\n",
       "  <tbody>\n",
       "    <tr>\n",
       "      <th>0</th>\n",
       "      <td>24.0</td>\n",
       "      <td>25.079501</td>\n",
       "    </tr>\n",
       "    <tr>\n",
       "      <th>1</th>\n",
       "      <td>50.0</td>\n",
       "      <td>42.813229</td>\n",
       "    </tr>\n",
       "    <tr>\n",
       "      <th>2</th>\n",
       "      <td>21.0</td>\n",
       "      <td>21.262138</td>\n",
       "    </tr>\n",
       "    <tr>\n",
       "      <th>3</th>\n",
       "      <td>16.1</td>\n",
       "      <td>21.679641</td>\n",
       "    </tr>\n",
       "    <tr>\n",
       "      <th>4</th>\n",
       "      <td>20.6</td>\n",
       "      <td>21.833982</td>\n",
       "    </tr>\n",
       "    <tr>\n",
       "      <th>...</th>\n",
       "      <td>...</td>\n",
       "      <td>...</td>\n",
       "    </tr>\n",
       "    <tr>\n",
       "      <th>97</th>\n",
       "      <td>20.1</td>\n",
       "      <td>17.873313</td>\n",
       "    </tr>\n",
       "    <tr>\n",
       "      <th>98</th>\n",
       "      <td>23.3</td>\n",
       "      <td>21.570993</td>\n",
       "    </tr>\n",
       "    <tr>\n",
       "      <th>99</th>\n",
       "      <td>13.4</td>\n",
       "      <td>16.968615</td>\n",
       "    </tr>\n",
       "    <tr>\n",
       "      <th>100</th>\n",
       "      <td>27.5</td>\n",
       "      <td>13.425706</td>\n",
       "    </tr>\n",
       "    <tr>\n",
       "      <th>101</th>\n",
       "      <td>22.6</td>\n",
       "      <td>18.847850</td>\n",
       "    </tr>\n",
       "  </tbody>\n",
       "</table>\n",
       "<p>102 rows × 2 columns</p>\n",
       "</div>"
      ],
      "text/plain": [
       "     Target  Prediction\n",
       "0      24.0   25.079501\n",
       "1      50.0   42.813229\n",
       "2      21.0   21.262138\n",
       "3      16.1   21.679641\n",
       "4      20.6   21.833982\n",
       "..      ...         ...\n",
       "97     20.1   17.873313\n",
       "98     23.3   21.570993\n",
       "99     13.4   16.968615\n",
       "100    27.5   13.425706\n",
       "101    22.6   18.847850\n",
       "\n",
       "[102 rows x 2 columns]"
      ]
     },
     "execution_count": 116,
     "metadata": {},
     "output_type": "execute_result"
    }
   ],
   "source": [
    "data"
   ]
  },
  {
   "cell_type": "markdown",
   "id": "746964fa",
   "metadata": {},
   "source": [
    "Okay then let's compare them using a scatterplot, as we can see the line is positively correlated and moving in an upward trend"
   ]
  },
  {
   "cell_type": "code",
   "execution_count": 117,
   "id": "a46e9669",
   "metadata": {},
   "outputs": [
    {
     "data": {
      "image/png": "[encoded data removed]",
      "text/plain": [
       "<Figure size 432x288 with 1 Axes>"
      ]
     },
     "metadata": {
      "needs_background": "light"
     },
     "output_type": "display_data"
    }
   ],
   "source": [
    "sns.scatterplot(y=y_test, x=predictions);"
   ]
  },
  {
   "cell_type": "markdown",
   "id": "5e38ed39",
   "metadata": {},
   "source": [
    "Also in the distribution of the residuals/errors, we see the data is almost evenly unifiormly distributed which means our model is somewhat good"
   ]
  },
  {
   "cell_type": "code",
   "execution_count": 118,
   "id": "0bfdc522",
   "metadata": {},
   "outputs": [],
   "source": [
    "residuals = y_test - predictions"
   ]
  },
  {
   "cell_type": "code",
   "execution_count": 119,
   "id": "c9a19fed",
   "metadata": {},
   "outputs": [
    {
     "data": {
      "text/plain": [
       "<AxesSubplot:ylabel='Count'>"
      ]
     },
     "execution_count": 119,
     "metadata": {},
     "output_type": "execute_result"
    },
    {
     "data": {
      "image/png": "[encoded data removed]",
      "text/plain": [
       "<Figure size 432x288 with 1 Axes>"
      ]
     },
     "metadata": {
      "needs_background": "light"
     },
     "output_type": "display_data"
    }
   ],
   "source": [
    "sns.histplot(residuals, kde=True)"
   ]
  },
  {
   "cell_type": "markdown",
   "id": "1d557e15",
   "metadata": {},
   "source": [
    "### Lets check the Performance of our Model"
   ]
  },
  {
   "cell_type": "code",
   "execution_count": 120,
   "id": "ff55366d",
   "metadata": {},
   "outputs": [],
   "source": [
    "from sklearn.metrics import r2_score, mean_squared_error"
   ]
  },
  {
   "cell_type": "markdown",
   "id": "42a34414",
   "metadata": {},
   "source": [
    "Below we see that our model is quite good, with the residuals quite close to 0 and a score of 80.3%, but if we keep re-running these the score may tend to increase or decrease, which is why your score may be different than 80.3%"
   ]
  },
  {
   "cell_type": "code",
   "execution_count": 121,
   "id": "97637f0a",
   "metadata": {},
   "outputs": [
    {
     "name": "stdout",
     "output_type": "stream",
     "text": [
      "Mean Squared Error : 25.356186029359602\n",
      "Root Mean Squared Error : 5.035492630255713\n",
      "R2 Score : 0.7135346727440108\n"
     ]
    }
   ],
   "source": [
    "print(f\"Mean Squared Error : {mean_squared_error(y_test, predictions)}\")\n",
    "print(f\"Root Mean Squared Error : {np.sqrt(mean_squared_error(y_test, predictions))}\")\n",
    "print(f\"R2 Score : {r2_score(y_test, predictions)}\")"
   ]
  }
 ],
 "metadata": {
  "kernelspec": {
   "display_name": "Python 3",
   "language": "python",
   "name": "python3"
  },
  "language_info": {
   "codemirror_mode": {
    "name": "ipython",
    "version": 3
   },
   "file_extension": ".py",
   "mimetype": "text/x-python",
   "name": "python",
   "nbconvert_exporter": "python",
   "pygments_lexer": "ipython3",
   "version": "3.8.8"
  }
 },
 "nbformat": 4,
 "nbformat_minor": 5
}
